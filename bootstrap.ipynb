{
 "cells": [
  {
   "cell_type": "code",
   "execution_count": null,
   "metadata": {},
   "outputs": [],
   "source": [
    "import pandas as pd\n",
    "import random\n",
    "import pickle\n",
    "\n",
    "df=pd.read_csv(\"./data/trend.csv\")\n",
    "labels = [-1] + df['-1'].tolist()\n",
    "\n",
    "\n",
    "FILE_NAME = \"./data/data{0}.txt\"\n",
    "SAMPLE_FILE_NAME = \"./data/{0}_{1}.txt\"\n",
    "\n",
    "pos_count = 0\n",
    "zero_count = 0\n",
    "neg_count = 0\n",
    "file_name_lst = []\n",
    "\n",
    "for idx in range(0,20):\n",
    "    label = labels[idx]\n",
    "    num_lines = sum(1 for line in open(FILE_NAME.format(idx)))\n",
    "    num_samples = 10\n",
    "    if label == 0:\n",
    "        num_samples = 20\n",
    "  \n",
    "    for i in range(num_samples):\n",
    "        sampled_line_num = random.randint(num_lines // 3, 2 * num_lines // 3)\n",
    "        line_list = set(random.sample([i for i in range(num_lines)], sampled_line_num))\n",
    "        if label == 1:\n",
    "            count = pos_count\n",
    "        if label == 0:\n",
    "            count = zero_count\n",
    "        if label == -1:\n",
    "            count = neg_count\n",
    "    \n",
    "        with open(FILE_NAME.format(idx), \"r\") as rf:\n",
    "            with open(SAMPLE_FILE_NAME.format(label, count), \"w\") as wf:\n",
    "                for i, line in enumerate(rf):\n",
    "                    if i in line_list:\n",
    "                        wf.write(line)\n",
    "\n",
    "        file_name_lst.append(SAMPLE_FILE_NAME.format(label, count))\n",
    "        pos_count += label == 1\n",
    "        neg_count += label == -1\n",
    "        zero_count += label == 0\n",
    "\n",
    "with open(\"file_lst1.pkl\", \"wb\") as f:\n",
    "    pickle.dump(file_name_lst, f)\n",
    "  "
   ]
  }
 ],
 "metadata": {
  "kernelspec": {
   "display_name": "Python 3 (ipykernel)",
   "language": "python",
   "name": "python3"
  },
  "language_info": {
   "codemirror_mode": {
    "name": "ipython",
    "version": 3
   },
   "file_extension": ".py",
   "mimetype": "text/x-python",
   "name": "python",
   "nbconvert_exporter": "python",
   "pygments_lexer": "ipython3",
   "version": "3.8.12"
  }
 },
 "nbformat": 4,
 "nbformat_minor": 4
}
